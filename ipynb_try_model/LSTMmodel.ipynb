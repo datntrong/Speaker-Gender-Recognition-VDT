{
 "metadata": {
  "kernelspec": {
   "language": "python",
   "display_name": "Python 3",
   "name": "python3"
  },
  "language_info": {
   "name": "python",
   "version": "3.7.12",
   "mimetype": "text/x-python",
   "codemirror_mode": {
    "name": "ipython",
    "version": 3
   },
   "pygments_lexer": "ipython3",
   "nbconvert_exporter": "python",
   "file_extension": ".py"
  }
 },
 "nbformat_minor": 4,
 "nbformat": 4,
 "cells": [
  {
   "cell_type": "code",
   "source": [
    "!pip install -q wavencoder"
   ],
   "metadata": {
    "execution": {
     "iopub.status.busy": "2022-06-14T14:40:05.709426Z",
     "iopub.execute_input": "2022-06-14T14:40:05.710000Z",
     "iopub.status.idle": "2022-06-14T14:40:23.575017Z",
     "shell.execute_reply.started": "2022-06-14T14:40:05.709907Z",
     "shell.execute_reply": "2022-06-14T14:40:23.574200Z"
    },
    "trusted": true,
    "pycharm": {
     "name": "#%%\n"
    }
   },
   "execution_count": 1,
   "outputs": [
    {
     "name": "stdout",
     "text": "\u001B[33mWARNING: Running pip as the 'root' user can result in broken permissions and conflicting behaviour with the system package manager. It is recommended to use a virtual environment instead: https://pip.pypa.io/warnings/venv\u001B[0m\u001B[33m\n\u001B[0m",
     "output_type": "stream"
    }
   ]
  },
  {
   "cell_type": "code",
   "source": [
    "RATE = '8000' \n",
    "\n",
    "CATES = ['female', 'male']\n",
    "\n",
    "BASE_ORIGINAL_TRAIN = '../input/gendersclassification-vdt-2022/dataset_v2/train'\n",
    "\n",
    "BASE_TRAIN = BASE_ORIGINAL_TRAIN\n",
    "\n",
    "BASE_PUBLIC_TEST = '../input/gendersclassification-vdt-2022/public-test/public-test/wav'\n",
    "BASE_PRIVATE_TEST = '../input/gendersclassification-vdt-2022/private-test/private-test/wav'\n",
    "NUM_WORKERS = 4\n",
    "import torch\n",
    "INFER_ONLY = True # change this to False to train the model again \n",
    "device = torch.device('cuda:0' if torch.cuda.is_available() else 'cpu')"
   ],
   "metadata": {
    "execution": {
     "iopub.status.busy": "2022-06-14T14:40:23.576949Z",
     "iopub.execute_input": "2022-06-14T14:40:23.577218Z",
     "iopub.status.idle": "2022-06-14T14:40:25.168924Z",
     "shell.execute_reply.started": "2022-06-14T14:40:23.577183Z",
     "shell.execute_reply": "2022-06-14T14:40:25.168054Z"
    },
    "trusted": true,
    "pycharm": {
     "name": "#%%\n"
    }
   },
   "execution_count": 2,
   "outputs": []
  },
  {
   "cell_type": "code",
   "source": [
    "# wavencoder.utils.download_noise_dataset('noise_dataset', download_all=False, noise_envs=['kitchen', 'metro'])"
   ],
   "metadata": {
    "execution": {
     "iopub.status.busy": "2022-06-14T14:40:25.172024Z",
     "iopub.execute_input": "2022-06-14T14:40:25.172237Z",
     "iopub.status.idle": "2022-06-14T14:40:25.178151Z",
     "shell.execute_reply.started": "2022-06-14T14:40:25.172212Z",
     "shell.execute_reply": "2022-06-14T14:40:25.177504Z"
    },
    "trusted": true,
    "pycharm": {
     "name": "#%%\n"
    }
   },
   "execution_count": 3,
   "outputs": []
  },
  {
   "cell_type": "code",
   "source": [
    "import os\n",
    "import pandas as pd\n",
    "from sklearn.model_selection import train_test_split\n",
    "import librosa\n",
    "def get_fn_lbs():\n",
    "    lbs = []\n",
    "    fns = []\n",
    "    for name_dir in os.listdir(BASE_TRAIN):\n",
    "        for i in os.listdir(os.path.join(BASE_TRAIN,name_dir)):\n",
    "            if name_dir == 'male':\n",
    "                for j in os.listdir(os.path.join(BASE_TRAIN,name_dir,i)):\n",
    "                    dur = librosa.get_duration(filename=os.path.join(BASE_TRAIN,name_dir,i,j))\n",
    "                    if dur >1:\n",
    "                        lbs.append(1)\n",
    "                        fns.append(os.path.join(BASE_TRAIN,name_dir,i,j))\n",
    "            if name_dir == 'female':\n",
    "                for j in os.listdir(os.path.join(BASE_TRAIN,name_dir,i)):\n",
    "                    dur = librosa.get_duration(filename=os.path.join(BASE_TRAIN,name_dir,i,j))\n",
    "                    if dur >1:\n",
    "                        lbs.append(0)\n",
    "                        fns.append(os.path.join(BASE_TRAIN,name_dir,i,j))\n",
    "    return lbs,fns\n",
    "\n",
    "lbs,fns= get_fn_lbs()\n",
    "    \n",
    "train_fns, val_fns, train_lbs, val_lbs = train_test_split(fns, lbs, test_size=0.1, random_state=42,shuffle = True)\n",
    "def get_fn_test():\n",
    "    lbs = []\n",
    "    fns = []\n",
    "    df = pd.read_csv(\"../input/gendersclassification-vdt-2022/public-test/public-test/test_files.txt\", header=None,names=[\"gender\", \"filename\"])\n",
    "    for index, row in df.iterrows():\n",
    "        if str(row['gender']) == 'M':\n",
    "            dur = librosa.get_duration(filename=os.path.join('../input/gendersclassification-vdt-2022/public-test/public-test/wav',str(row['filename'])))\n",
    "            if dur >1:\n",
    "                lbs.append(1)\n",
    "                fns.append(os.path.join('../input/gendersclassification-vdt-2022/public-test/public-test/wav',str(row['filename'])))\n",
    "        elif str(row['gender']) == 'F':\n",
    "            dur = librosa.get_duration(filename=os.path.join('../input/gendersclassification-vdt-2022/public-test/public-test/wav',str(row['filename'])))\n",
    "            if dur >1:\n",
    "                lbs.append(0)\n",
    "                fns.append(os.path.join('../input/gendersclassification-vdt-2022/public-test/public-test/wav',str(row['filename'])))\n",
    "    return lbs,fns\n",
    "test_lbs,test_fns = get_fn_test()\n",
    "def get_fn_submit():\n",
    "    fns = []\n",
    "    lbs = []\n",
    "    for i in os.listdir('../input/gendersclassification-vdt-2022/private-test/private-test/wav'):\n",
    "        fns.append(os.path.join('../input/gendersclassification-vdt-2022/private-test/private-test/wav',i))\n",
    "        lbs.append(0)\n",
    "    return lbs,fns\n",
    "submit_lbs,submit_fns = get_fn_submit()"
   ],
   "metadata": {
    "scrolled": true,
    "execution": {
     "iopub.status.busy": "2022-06-14T14:40:25.181373Z",
     "iopub.execute_input": "2022-06-14T14:40:25.181782Z",
     "iopub.status.idle": "2022-06-14T14:41:41.427761Z",
     "shell.execute_reply.started": "2022-06-14T14:40:25.181752Z",
     "shell.execute_reply": "2022-06-14T14:41:41.426877Z"
    },
    "trusted": true,
    "pycharm": {
     "name": "#%%\n"
    }
   },
   "execution_count": 4,
   "outputs": []
  },
  {
   "cell_type": "code",
   "source": [
    "from torch.utils.data import Dataset\n",
    "import torchaudio\n",
    "\n",
    "\n",
    "\n",
    "class Dataset(Dataset):\n",
    "    def __init__(self, filenames, labels, hparams, is_train=True,):\n",
    "        \n",
    "        self.files = filenames\n",
    "        self.lbs = labels\n",
    "        self.wav_len = hparams.timit_wav_len\n",
    "        self.data_type = hparams.data_type\n",
    "        self.is_train = is_train\n",
    "        self.noise_dataset_path='noise_dataset'\n",
    "        \n",
    "#         if self.noise_dataset_path:\n",
    "#             self.train_transform = wavencoder.transforms.Compose([\n",
    "#                 wavencoder.transforms.PadCrop(pad_crop_length=self.wav_len, pad_position='random', crop_position='random'),\n",
    "#                 wavencoder.transforms.AdditiveNoise(self.noise_dataset_path, p=0.5),\n",
    "#                 wavencoder.transforms.Clipping(p=0.5),\n",
    "#                 ])\n",
    "#         else:\n",
    "#             self.train_transform = wavencoder.transforms.Compose([\n",
    "#                 wavencoder.transforms.PadCrop(pad_crop_length=self.wav_len, pad_position='center', crop_position='random'),\n",
    "#                 wavencoder.transforms.Clipping(p=0.5),\n",
    "#                 ])\n",
    "\n",
    "\n",
    "        self.train_transform = wavencoder.transforms.Compose([\n",
    "                wavencoder.transforms.PadCrop(pad_crop_length=self.wav_len, pad_position='center', crop_position='random'),\n",
    "                wavencoder.transforms.Clipping(p=0.5),\n",
    "                ])\n",
    "\n",
    "        self.test_transform = wavencoder.transforms.Compose([\n",
    "            wavencoder.transforms.PadCrop(pad_crop_length=self.wav_len, pad_position='left', crop_position='center')\n",
    "            ])\n",
    "\n",
    "        if self.data_type == 'spectral':\n",
    "            # self.spectral_transform = torchaudio.transforms.MelSpectrogram(normalized=True)\n",
    "            self.spectral_transform = torchaudio.transforms.MFCC(n_mfcc=40,sample_rate=8000, log_mels=True)\n",
    "            self.spec_aug = wavencoder.transforms.Compose([  \n",
    "                torchaudio.transforms.FrequencyMasking(5),\n",
    "                torchaudio.transforms.TimeMasking(5),\n",
    "            ])\n",
    "\n",
    "    def __len__(self):\n",
    "        return len(self.files)\n",
    "    \n",
    "    def __getitem__(self, idx):\n",
    "        if torch.is_tensor(idx):\n",
    "            idx = idx.tolist()\n",
    "        \n",
    "        file = self.files[idx]\n",
    "        gender = self.lbs[idx]\n",
    "        wav, _ = torchaudio.load(file)\n",
    "        if self.is_train:\n",
    "            wav = self.train_transform(wav)  \n",
    "            if self.data_type == 'spectral':\n",
    "                wav = self.spectral_transform(wav)\n",
    "                \n",
    "\n",
    "\n",
    "        else:\n",
    "            if self.data_type == 'spectral':\n",
    "                wav = self.spectral_transform(wav)\n",
    "        \n",
    "        return wav, gender"
   ],
   "metadata": {
    "execution": {
     "iopub.status.busy": "2022-06-14T14:41:41.445662Z",
     "iopub.execute_input": "2022-06-14T14:41:41.445995Z",
     "iopub.status.idle": "2022-06-14T14:41:43.201402Z",
     "shell.execute_reply.started": "2022-06-14T14:41:41.445961Z",
     "shell.execute_reply": "2022-06-14T14:41:43.200530Z"
    },
    "trusted": true,
    "pycharm": {
     "name": "#%%\n"
    }
   },
   "execution_count": 7,
   "outputs": []
  },
  {
   "cell_type": "code",
   "source": [
    "\n",
    "import torch.nn as nn\n",
    "\n",
    "\n",
    "class Wav2VecLSTM(nn.Module):\n",
    "    def __init__(self, lstm_h, lstm_inp=512):\n",
    "        super().__init__()\n",
    "        self.encoder = wavencoder.models.Wav2Vec(pretrained=True)\n",
    "        for param in self.encoder.parameters():\n",
    "            param.requires_grad = False\n",
    "\n",
    "        for param in self.encoder.feature_extractor.conv_layers[5:].parameters():\n",
    "            param.requires_grad = True\n",
    "        \n",
    "        self.lstm = nn.LSTM(lstm_inp, lstm_h, batch_first=True)\n",
    "        self.attention = wavencoder.layers.SoftAttention(lstm_h, lstm_h)\n",
    "        self.gender_classifier = nn.Sequential(\n",
    "            nn.Linear(lstm_h, 1),\n",
    "            nn.Sigmoid()\n",
    "        )\n",
    "\n",
    "    def forward(self, x):\n",
    "        x = self.encoder(x)\n",
    "        output, (hidden, _) = self.lstm(x.transpose(1,2))\n",
    "        attn_output = self.attention(output)\n",
    "        gender = self.gender_classifier(attn_output)\n",
    "        return gender\n",
    "\n",
    "\n",
    "\n",
    "class SpectralLSTM(nn.Module):\n",
    "    def __init__(self, lstm_h):\n",
    "        super().__init__()\n",
    "\n",
    "        self.lstm = nn.LSTM(128, lstm_h, batch_first=True)\n",
    "        self.attention = wavencoder.layers.SoftAttention(lstm_h, lstm_h)\n",
    "        \n",
    "        self.gender_classifier = nn.Sequential(\n",
    "            nn.Linear(lstm_h, lstm_h),\n",
    "            nn.ReLU(),\n",
    "            nn.Dropout(0.3),\n",
    "            nn.Linear(lstm_h, 1),\n",
    "            nn.Sigmoid())\n",
    "\n",
    "    def forward(self, x):\n",
    "        x = x.squeeze(1)\n",
    "        output, (hidden, _) = self.lstm(x.transpose(1,2))\n",
    "        attn_output = self.attention(output)\n",
    "\n",
    "        gender = self.gender_classifier(attn_output)\n",
    "        return gender\n",
    "\n",
    "class SpectralCNNLSTM(nn.Module):\n",
    "    def __init__(self, lstm_h):\n",
    "        super().__init__()\n",
    "        self.encoder = nn.Sequential(\n",
    "            nn.Conv1d(40, int(lstm_h/2), 5),\n",
    "            nn.ReLU(),\n",
    "            nn.BatchNorm1d(int(lstm_h/2)),\n",
    "            nn.Conv1d(int(lstm_h/2), int(lstm_h/2), 5),\n",
    "            nn.ReLU(),\n",
    "            nn.BatchNorm1d(int(lstm_h/2)),\n",
    "        )\n",
    "        self.lstm = nn.LSTM(int(lstm_h/2), int(lstm_h/2), batch_first=True)\n",
    "        self.attention = wavencoder.layers.SoftAttention(int(lstm_h/2), int(lstm_h/2))\n",
    "    \n",
    "        self.gender_classifier = nn.Sequential(\n",
    "            nn.Linear(int(lstm_h/2), int(lstm_h/2)),\n",
    "            nn.ReLU(),\n",
    "            nn.Dropout(0.3),\n",
    "            nn.Linear(int(lstm_h/2), 1),\n",
    "            nn.Sigmoid())\n",
    "\n",
    "    def forward(self, x):\n",
    "        x = x.squeeze(1)\n",
    "        x = self.encoder(x)\n",
    "        output, (hidden, _) = self.lstm(x.transpose(1,2))\n",
    "        attn_output = self.attention(output)\n",
    "\n",
    "        gender = self.gender_classifier(attn_output)\n",
    "        return gender\n",
    "\n",
    "\n",
    "\n",
    "\n"
   ],
   "metadata": {
    "execution": {
     "iopub.status.busy": "2022-06-14T14:41:43.203142Z",
     "iopub.execute_input": "2022-06-14T14:41:43.203397Z",
     "iopub.status.idle": "2022-06-14T14:41:43.236067Z",
     "shell.execute_reply.started": "2022-06-14T14:41:43.203368Z",
     "shell.execute_reply": "2022-06-14T14:41:43.235226Z"
    },
    "trusted": true,
    "pycharm": {
     "name": "#%%\n"
    }
   },
   "execution_count": 8,
   "outputs": []
  },
  {
   "cell_type": "code",
   "source": [
    "!pip install -q torch_optimizer"
   ],
   "metadata": {
    "execution": {
     "iopub.status.busy": "2022-06-14T14:41:43.239048Z",
     "iopub.execute_input": "2022-06-14T14:41:43.239342Z",
     "iopub.status.idle": "2022-06-14T14:41:52.965486Z",
     "shell.execute_reply.started": "2022-06-14T14:41:43.239298Z",
     "shell.execute_reply": "2022-06-14T14:41:52.964634Z"
    },
    "trusted": true,
    "pycharm": {
     "name": "#%%\n"
    }
   },
   "execution_count": 9,
   "outputs": [
    {
     "name": "stdout",
     "text": "\u001B[33mWARNING: Running pip as the 'root' user can result in broken permissions and conflicting behaviour with the system package manager. It is recommended to use a virtual environment instead: https://pip.pypa.io/warnings/venv\u001B[0m\u001B[33m\n\u001B[0m",
     "output_type": "stream"
    }
   ]
  },
  {
   "cell_type": "code",
   "source": [
    "\n",
    "import torch.nn as nn\n",
    "\n",
    "\n",
    "import pytorch_lightning as pl\n",
    "\n",
    "from torchmetrics import MeanSquaredError  as MSE\n",
    "from torchmetrics import Accuracy\n",
    "\n",
    "import wavencoder\n",
    "import torch_optimizer as optim\n",
    "\n",
    "\n",
    "\n",
    "\n",
    "\n",
    "\n",
    "class RMSELoss(nn.Module):\n",
    "    def __init__(self):\n",
    "        super().__init__()\n",
    "        self.mse = nn.CrossEntropyLoss()\n",
    "        \n",
    "    def forward(self,yhat,y):\n",
    "        return torch.sqrt(self.mse(yhat,y))\n",
    "\n",
    "class LightningModel(pl.LightningModule):\n",
    "    def __init__(self, HPARAMS):\n",
    "        super().__init__()\n",
    "\n",
    "        self.save_hyperparameters()\n",
    "        self.models = {\n",
    "            'wav2vecLSTMAttn': Wav2VecLSTM,\n",
    "            'spectralCNNLSTM' : SpectralCNNLSTM,\n",
    "            'MultiScale' : SpectralMultiScale,\n",
    "            'SpectralLSTM': SpectralLSTM,\n",
    "            \n",
    "\n",
    "        }\n",
    "        self.model = self.models[HPARAMS['model_type']](HPARAMS['hidden_size'])\n",
    "\n",
    "        self.classification_criterion = MSE()\n",
    "        self.accuracy = Accuracy()\n",
    "\n",
    "\n",
    "        self.lr = HPARAMS['lr']\n",
    "\n",
    "\n",
    "        print(f\"Model Details: #Params = {self.count_total_parameters()}\\t#Trainable Params = {self.count_trainable_parameters()}\")\n",
    "\n",
    "    def count_total_parameters(self):\n",
    "            return sum(p.numel() for p in self.parameters())\n",
    "    \n",
    "    def count_trainable_parameters(self):\n",
    "        return sum(p.numel() for p in self.parameters() if p.requires_grad)\n",
    "\n",
    "    def forward(self, x):\n",
    "        return self.model(x)\n",
    "\n",
    "    def configure_optimizers(self):\n",
    "        optimizer = optim.DiffGrad(self.parameters(), lr=self.lr)\n",
    "        return [optimizer]\n",
    "\n",
    "    def training_step(self, batch, batch_idx):\n",
    "        x, y_g = batch\n",
    "        y_hat_g = self(x)\n",
    "        y_g = y_g.view(-1).float()\n",
    "        y_hat_g = y_hat_g.view(-1).float()\n",
    "\n",
    "        gender_loss = self.classification_criterion(y_hat_g, y_g)\n",
    "        loss =  gender_loss\n",
    "\n",
    "        \n",
    "        gender_acc = self.accuracy((y_hat_g>0.5).long(), y_g.long())\n",
    "\n",
    "\n",
    "        return {'loss':loss, \n",
    "                'train_gender_acc':gender_acc,\n",
    "                }\n",
    "    \n",
    "    def training_epoch_end(self, outputs):\n",
    "        n_batch = len(outputs)\n",
    "        loss = torch.tensor([x['loss'] for x in outputs]).mean()\n",
    "        gender_acc = torch.tensor([x['train_gender_acc'] for x in outputs]).mean()\n",
    "\n",
    "        self.log('train/loss' , loss, on_step=False, on_epoch=True, prog_bar=True)\n",
    "        self.log('train/g',gender_acc, on_step=False, on_epoch=True, prog_bar=True)\n",
    "\n",
    "    def validation_step(self, batch, batch_idx):\n",
    "        x, y_g = batch\n",
    "        y_hat_g = self(x)\n",
    "        y_g =  y_g.view(-1).float()\n",
    "        y_hat_g = y_hat_g.view(-1).float()\n",
    "\n",
    "        gender_loss = self.classification_criterion(y_hat_g, y_g)\n",
    "        loss = self.gamma * gender_loss\n",
    "\n",
    "        gender_acc = self.accuracy((y_hat_g>0.5).long(), y_g.long())\n",
    "\n",
    "        return {'val_loss':loss, \n",
    "                'val_gender_acc':gender_acc}\n",
    "\n",
    "    def validation_epoch_end(self, outputs):\n",
    "        n_batch = len(outputs)\n",
    "        val_loss = torch.tensor([x['val_loss'] for x in outputs]).mean()\n",
    "        gender_acc = torch.tensor([x['val_gender_acc'] for x in outputs]).mean()\n",
    "        self.log('val/loss' , val_loss, on_step=False, on_epoch=True, prog_bar=True)\n",
    "        self.log('val/g',gender_acc, on_step=False, on_epoch=True, prog_bar=True)\n",
    "\n",
    "    def test_step(self, batch, batch_idx):\n",
    "        x, y_g = batch\n",
    "        y_hat_g = self(x)\n",
    "        y_g =  y_g.view(-1).float()\n",
    "        y_hat_g = y_hat_g.view(-1).float()\n",
    "\n",
    "        gender_acc = self.accuracy((y_hat_g>0.5).long(), y_g.long())\n",
    "\n",
    "        idx = y_g.view(-1).long()\n",
    "        female_idx = torch.nonzero(idx).view(-1)\n",
    "        male_idx = torch.nonzero(1-idx).view(-1)\n",
    "\n",
    "       \n",
    "\n",
    "        return {\n",
    "                'test_gender_acc':gender_acc}\n",
    "\n",
    "    def test_epoch_end(self, outputs):\n",
    "        n_batch = len(outputs)\n",
    "        \n",
    "        gender_acc = torch.tensor([x['test_gender_acc'] for x in outputs]).mean()\n",
    "\n",
    "        pbar = {\n",
    "                'test_gender_acc':gender_acc.item()}\n",
    "        self.logger.log_hyperparams(pbar)\n",
    "        self.log_dict(pbar)"
   ],
   "metadata": {
    "execution": {
     "iopub.status.busy": "2022-06-14T14:41:52.967375Z",
     "iopub.execute_input": "2022-06-14T14:41:52.967605Z",
     "iopub.status.idle": "2022-06-14T14:41:57.742357Z",
     "shell.execute_reply.started": "2022-06-14T14:41:52.967578Z",
     "shell.execute_reply": "2022-06-14T14:41:57.741611Z"
    },
    "trusted": true,
    "pycharm": {
     "name": "#%%\n"
    }
   },
   "execution_count": 10,
   "outputs": []
  },
  {
   "cell_type": "code",
   "source": [
    "import os\n",
    "\n",
    "class Config(object):\n",
    "\n",
    "    \n",
    "    # length of wav files for training and testing\n",
    "    wav_len = 2 * 8000\n",
    "    # 16000 * 2\n",
    "\n",
    "    batch_size = 1024\n",
    "    epochs = 150\n",
    "    \n",
    "    # loss = alpha * height_loss + beta * age_loss + gamma * gender_loss\n",
    "    alpha = 1\n",
    "    beta = 1\n",
    "    gamma = 1\n",
    "\n",
    "    # training type - AHG/H\n",
    "    training_type = 'AHG'\n",
    "\n",
    "    # data type - raw/spectral\n",
    "    data_type = 'spectral' \n",
    "\n",
    "    # model type\n",
    "    ## AHG \n",
    "    # wav2vecLSTMAttn/spectralCNNLSTM/MultiScale,SpectralLSTM\n",
    "    model_type = 'spectralCNNLSTM'\n",
    "    \n",
    "    # hidden dimension of LSTM and Dense Layers\n",
    "    hidden_size = 128\n",
    "\n",
    "    # No of GPUs for training and no of workers for datalaoders\n",
    "    gpu = '-1'\n",
    "    n_workers = 2\n",
    "\n",
    "    # model checkpoint to continue from\n",
    "    model_checkpoint = None\n",
    "    \n",
    "    # noise dataset for augmentation\n",
    "    noise_dataset_path = 'noise_dataset'\n",
    "\n",
    "    # LR of optimizer\n",
    "    lr = 1e-4\n",
    "\n",
    "    run_name = data_type + '_' + training_type + '_' + model_type\n"
   ],
   "metadata": {
    "execution": {
     "iopub.status.busy": "2022-06-14T14:41:57.743805Z",
     "iopub.execute_input": "2022-06-14T14:41:57.744049Z",
     "iopub.status.idle": "2022-06-14T14:41:57.750369Z",
     "shell.execute_reply.started": "2022-06-14T14:41:57.744017Z",
     "shell.execute_reply": "2022-06-14T14:41:57.749631Z"
    },
    "trusted": true,
    "pycharm": {
     "name": "#%%\n"
    }
   },
   "execution_count": 11,
   "outputs": []
  },
  {
   "cell_type": "code",
   "source": [
    "\n",
    "from argparse import ArgumentParser\n",
    "\n",
    "import pytorch_lightning as pl\n",
    "from pytorch_lightning.callbacks import ModelCheckpoint\n",
    "from pytorch_lightning.callbacks.early_stopping import EarlyStopping\n",
    "from pytorch_lightning import Trainer\n",
    "\n",
    "\n",
    "import torch\n",
    "import torch.utils.data as data\n",
    "\n",
    "\n",
    "\n",
    "# SEED\n",
    "SEED=100\n",
    "pl.utilities.seed.seed_everything(SEED)\n",
    "torch.manual_seed(SEED)\n",
    "\n",
    "\n",
    "if __name__ == \"__main__\":\n",
    "\n",
    "    parser = ArgumentParser(add_help=True)\n",
    "    parser.add_argument('--wav_len', type=int, default=Config.wav_len)\n",
    "    parser.add_argument('--batch_size', type=int, default=Config.batch_size)\n",
    "    parser.add_argument('--epochs', type=int, default=Config.epochs)\n",
    "    parser.add_argument('--alpha', type=float, default=Config.alpha)\n",
    "    parser.add_argument('--beta', type=float, default=Config.beta)\n",
    "    parser.add_argument('--gamma', type=float, default=Config.gamma)\n",
    "    parser.add_argument('--hidden_size', type=float, default=Config.hidden_size)\n",
    "    parser.add_argument('--lr', type=float, default=Config.lr)\n",
    "    parser.add_argument('--gpu', type=int, default=Config.gpu)\n",
    "    parser.add_argument('--n_workers', type=int, default=Config.n_workers)\n",
    "    parser.add_argument('--dev', type=str, default=False)\n",
    "    parser.add_argument('--model_checkpoint', type=str, default=Config.model_checkpoint)\n",
    "    parser.add_argument('--noise_dataset_path', type=str, default=Config.noise_dataset_path)\n",
    "    parser.add_argument('--model_type', type=str, default=Config.model_type)\n",
    "    parser.add_argument('--training_type', type=str, default=Config.training_type)\n",
    "    parser.add_argument('--data_type', type=str, default=Config.data_type)\n",
    "\n",
    "    parser = pl.Trainer.add_argparse_args(parser)\n",
    "    hparams, unknown = parser.parse_known_args()\n",
    "    print(f'Training Model on TIMIT Dataset\\n#Cores = {hparams.n_workers}\\t#GPU = {hparams.gpu}')\n",
    "\n",
    "    # Training, Validation and Testing Dataset\n",
    "    ## Training Dataset\n",
    "    train_set = Dataset(filenames = train_fns, labels = train_lbs ,\n",
    "        hparams = hparams\n",
    "    )\n",
    "    ## Training DataLoader\n",
    "    trainloader = data.DataLoader(\n",
    "        train_set, \n",
    "        batch_size=hparams.batch_size, \n",
    "        shuffle=True, \n",
    "        num_workers=hparams.n_workers\n",
    "    )\n",
    "    ## Validation Dataset\n",
    "    valid_set = Dataset(\n",
    "        filenames =val_fns,labels = val_lbs,\n",
    "        hparams = hparams,\n",
    "        is_train=True\n",
    "    )\n",
    "    ## Validation Dataloader\n",
    "    valloader = data.DataLoader(\n",
    "        valid_set, \n",
    "        batch_size=\n",
    "        hparams.batch_size, \n",
    "        shuffle=False, \n",
    "        num_workers=hparams.n_workers\n",
    "    )\n",
    "    ## Testing Dataset\n",
    "    test_set = Dataset(\n",
    "        filenames = test_fns, labels = test_lbs ,\n",
    "        hparams = hparams,\n",
    "        is_train=True\n",
    "    )\n",
    "    ## Testing Dataloader\n",
    "    testloader = data.DataLoader(\n",
    "        test_set, \n",
    "        batch_size=hparams.batch_size, \n",
    "        # hparams.batch_size, \n",
    "        shuffle=False, \n",
    "        num_workers=hparams.n_workers\n",
    "    )\n",
    "    \n",
    "\n",
    "    print('Dataset Split (Train, Validation, Test)=', len(train_set), len(valid_set), len(test_set))\n",
    "\n",
    "    model = LightningModel(vars(hparams))\n",
    "\n",
    "    checkpoint_callback = ModelCheckpoint(\n",
    "        monitor='val/loss', \n",
    "        mode='min',\n",
    "        verbose=1)\n",
    "\n",
    "    trainer = Trainer(\n",
    "        fast_dev_run=hparams.dev, \n",
    "        gpus=hparams.gpu, \n",
    "        max_epochs=hparams.epochs, \n",
    "        checkpoint_callback=checkpoint_callback,\n",
    "        callbacks=[\n",
    "            EarlyStopping(\n",
    "                monitor='val/loss',\n",
    "                min_delta=0.00,\n",
    "                patience=20,\n",
    "                verbose=True,\n",
    "                mode='min'\n",
    "                )\n",
    "        ],\n",
    "        resume_from_checkpoint=hparams.model_checkpoint,\n",
    "        )\n",
    "\n",
    "    trainer.fit(model, trainloader, valloader)\n",
    "\n"
   ],
   "metadata": {
    "execution": {
     "iopub.status.busy": "2022-06-14T14:41:57.751609Z",
     "iopub.execute_input": "2022-06-14T14:41:57.751994Z",
     "iopub.status.idle": "2022-06-14T15:17:28.486152Z",
     "shell.execute_reply.started": "2022-06-14T14:41:57.751958Z",
     "shell.execute_reply": "2022-06-14T15:17:28.485258Z"
    },
    "trusted": true,
    "pycharm": {
     "name": "#%%\n"
    }
   },
   "execution_count": 12,
   "outputs": [
    {
     "name": "stdout",
     "text": "Training Model on TIMIT Dataset\n#Cores = 2\t#GPU = -1\nDataset Split (Train, Validation, Test)= 13072 1453 2868\nModel Details: #Params = 75393\t#Trainable Params = 75393\n",
     "output_type": "stream"
    },
    {
     "name": "stderr",
     "text": "/opt/conda/lib/python3.7/site-packages/pytorch_lightning/trainer/connectors/callback_connector.py:152: LightningDeprecationWarning: Setting `Trainer(checkpoint_callback=<pytorch_lightning.callbacks.model_checkpoint.ModelCheckpoint object at 0x7fd0a273a950>)` is deprecated in v1.5 and will be removed in v1.7. Please consider using `Trainer(enable_checkpointing=<pytorch_lightning.callbacks.model_checkpoint.ModelCheckpoint object at 0x7fd0a273a950>)`.\n  f\"Setting `Trainer(checkpoint_callback={checkpoint_callback})` is deprecated in v1.5 and will \"\n",
     "output_type": "stream"
    },
    {
     "output_type": "display_data",
     "data": {
      "text/plain": "Sanity Checking: 0it [00:00, ?it/s]",
      "application/vnd.jupyter.widget-view+json": {
       "version_major": 2,
       "version_minor": 0,
       "model_id": ""
      }
     },
     "metadata": {}
    },
    {
     "name": "stderr",
     "text": "/opt/conda/lib/python3.7/site-packages/pytorch_lightning/trainer/trainer.py:1931: PossibleUserWarning: The number of training batches (13) is smaller than the logging interval Trainer(log_every_n_steps=50). Set a lower value for log_every_n_steps if you want to see logs for the training epoch.\n  category=PossibleUserWarning,\n",
     "output_type": "stream"
    },
    {
     "output_type": "display_data",
     "data": {
      "text/plain": "Training: 0it [00:00, ?it/s]",
      "application/vnd.jupyter.widget-view+json": {
       "version_major": 2,
       "version_minor": 0,
       "model_id": "4c94ecf515314f689b291fc1440a3db0"
      }
     },
     "metadata": {}
    },
    {
     "output_type": "display_data",
     "data": {
      "text/plain": "Validation: 0it [00:00, ?it/s]",
      "application/vnd.jupyter.widget-view+json": {
       "version_major": 2,
       "version_minor": 0,
       "model_id": ""
      }
     },
     "metadata": {}
    },
    {
     "output_type": "display_data",
     "data": {
      "text/plain": "Validation: 0it [00:00, ?it/s]",
      "application/vnd.jupyter.widget-view+json": {
       "version_major": 2,
       "version_minor": 0,
       "model_id": ""
      }
     },
     "metadata": {}
    },
    {
     "output_type": "display_data",
     "data": {
      "text/plain": "Validation: 0it [00:00, ?it/s]",
      "application/vnd.jupyter.widget-view+json": {
       "version_major": 2,
       "version_minor": 0,
       "model_id": ""
      }
     },
     "metadata": {}
    },
    {
     "output_type": "display_data",
     "data": {
      "text/plain": "Validation: 0it [00:00, ?it/s]",
      "application/vnd.jupyter.widget-view+json": {
       "version_major": 2,
       "version_minor": 0,
       "model_id": ""
      }
     },
     "metadata": {}
    },
    {
     "output_type": "display_data",
     "data": {
      "text/plain": "Validation: 0it [00:00, ?it/s]",
      "application/vnd.jupyter.widget-view+json": {
       "version_major": 2,
       "version_minor": 0,
       "model_id": ""
      }
     },
     "metadata": {}
    },
    {
     "output_type": "display_data",
     "data": {
      "text/plain": "Validation: 0it [00:00, ?it/s]",
      "application/vnd.jupyter.widget-view+json": {
       "version_major": 2,
       "version_minor": 0,
       "model_id": ""
      }
     },
     "metadata": {}
    },
    {
     "output_type": "display_data",
     "data": {
      "text/plain": "Validation: 0it [00:00, ?it/s]",
      "application/vnd.jupyter.widget-view+json": {
       "version_major": 2,
       "version_minor": 0,
       "model_id": ""
      }
     },
     "metadata": {}
    },
    {
     "output_type": "display_data",
     "data": {
      "text/plain": "Validation: 0it [00:00, ?it/s]",
      "application/vnd.jupyter.widget-view+json": {
       "version_major": 2,
       "version_minor": 0,
       "model_id": ""
      }
     },
     "metadata": {}
    },
    {
     "output_type": "display_data",
     "data": {
      "text/plain": "Validation: 0it [00:00, ?it/s]",
      "application/vnd.jupyter.widget-view+json": {
       "version_major": 2,
       "version_minor": 0,
       "model_id": ""
      }
     },
     "metadata": {}
    },
    {
     "output_type": "display_data",
     "data": {
      "text/plain": "Validation: 0it [00:00, ?it/s]",
      "application/vnd.jupyter.widget-view+json": {
       "version_major": 2,
       "version_minor": 0,
       "model_id": ""
      }
     },
     "metadata": {}
    },
    {
     "output_type": "display_data",
     "data": {
      "text/plain": "Validation: 0it [00:00, ?it/s]",
      "application/vnd.jupyter.widget-view+json": {
       "version_major": 2,
       "version_minor": 0,
       "model_id": ""
      }
     },
     "metadata": {}
    },
    {
     "output_type": "display_data",
     "data": {
      "text/plain": "Validation: 0it [00:00, ?it/s]",
      "application/vnd.jupyter.widget-view+json": {
       "version_major": 2,
       "version_minor": 0,
       "model_id": ""
      }
     },
     "metadata": {}
    },
    {
     "output_type": "display_data",
     "data": {
      "text/plain": "Validation: 0it [00:00, ?it/s]",
      "application/vnd.jupyter.widget-view+json": {
       "version_major": 2,
       "version_minor": 0,
       "model_id": ""
      }
     },
     "metadata": {}
    },
    {
     "output_type": "display_data",
     "data": {
      "text/plain": "Validation: 0it [00:00, ?it/s]",
      "application/vnd.jupyter.widget-view+json": {
       "version_major": 2,
       "version_minor": 0,
       "model_id": ""
      }
     },
     "metadata": {}
    },
    {
     "output_type": "display_data",
     "data": {
      "text/plain": "Validation: 0it [00:00, ?it/s]",
      "application/vnd.jupyter.widget-view+json": {
       "version_major": 2,
       "version_minor": 0,
       "model_id": ""
      }
     },
     "metadata": {}
    },
    {
     "output_type": "display_data",
     "data": {
      "text/plain": "Validation: 0it [00:00, ?it/s]",
      "application/vnd.jupyter.widget-view+json": {
       "version_major": 2,
       "version_minor": 0,
       "model_id": ""
      }
     },
     "metadata": {}
    },
    {
     "output_type": "display_data",
     "data": {
      "text/plain": "Validation: 0it [00:00, ?it/s]",
      "application/vnd.jupyter.widget-view+json": {
       "version_major": 2,
       "version_minor": 0,
       "model_id": ""
      }
     },
     "metadata": {}
    },
    {
     "output_type": "display_data",
     "data": {
      "text/plain": "Validation: 0it [00:00, ?it/s]",
      "application/vnd.jupyter.widget-view+json": {
       "version_major": 2,
       "version_minor": 0,
       "model_id": ""
      }
     },
     "metadata": {}
    },
    {
     "output_type": "display_data",
     "data": {
      "text/plain": "Validation: 0it [00:00, ?it/s]",
      "application/vnd.jupyter.widget-view+json": {
       "version_major": 2,
       "version_minor": 0,
       "model_id": ""
      }
     },
     "metadata": {}
    },
    {
     "output_type": "display_data",
     "data": {
      "text/plain": "Validation: 0it [00:00, ?it/s]",
      "application/vnd.jupyter.widget-view+json": {
       "version_major": 2,
       "version_minor": 0,
       "model_id": ""
      }
     },
     "metadata": {}
    },
    {
     "output_type": "display_data",
     "data": {
      "text/plain": "Validation: 0it [00:00, ?it/s]",
      "application/vnd.jupyter.widget-view+json": {
       "version_major": 2,
       "version_minor": 0,
       "model_id": ""
      }
     },
     "metadata": {}
    },
    {
     "output_type": "display_data",
     "data": {
      "text/plain": "Validation: 0it [00:00, ?it/s]",
      "application/vnd.jupyter.widget-view+json": {
       "version_major": 2,
       "version_minor": 0,
       "model_id": ""
      }
     },
     "metadata": {}
    },
    {
     "output_type": "display_data",
     "data": {
      "text/plain": "Validation: 0it [00:00, ?it/s]",
      "application/vnd.jupyter.widget-view+json": {
       "version_major": 2,
       "version_minor": 0,
       "model_id": ""
      }
     },
     "metadata": {}
    },
    {
     "output_type": "display_data",
     "data": {
      "text/plain": "Validation: 0it [00:00, ?it/s]",
      "application/vnd.jupyter.widget-view+json": {
       "version_major": 2,
       "version_minor": 0,
       "model_id": ""
      }
     },
     "metadata": {}
    },
    {
     "output_type": "display_data",
     "data": {
      "text/plain": "Validation: 0it [00:00, ?it/s]",
      "application/vnd.jupyter.widget-view+json": {
       "version_major": 2,
       "version_minor": 0,
       "model_id": ""
      }
     },
     "metadata": {}
    },
    {
     "output_type": "display_data",
     "data": {
      "text/plain": "Validation: 0it [00:00, ?it/s]",
      "application/vnd.jupyter.widget-view+json": {
       "version_major": 2,
       "version_minor": 0,
       "model_id": ""
      }
     },
     "metadata": {}
    },
    {
     "output_type": "display_data",
     "data": {
      "text/plain": "Validation: 0it [00:00, ?it/s]",
      "application/vnd.jupyter.widget-view+json": {
       "version_major": 2,
       "version_minor": 0,
       "model_id": ""
      }
     },
     "metadata": {}
    },
    {
     "output_type": "display_data",
     "data": {
      "text/plain": "Validation: 0it [00:00, ?it/s]",
      "application/vnd.jupyter.widget-view+json": {
       "version_major": 2,
       "version_minor": 0,
       "model_id": ""
      }
     },
     "metadata": {}
    },
    {
     "output_type": "display_data",
     "data": {
      "text/plain": "Validation: 0it [00:00, ?it/s]",
      "application/vnd.jupyter.widget-view+json": {
       "version_major": 2,
       "version_minor": 0,
       "model_id": ""
      }
     },
     "metadata": {}
    },
    {
     "output_type": "display_data",
     "data": {
      "text/plain": "Validation: 0it [00:00, ?it/s]",
      "application/vnd.jupyter.widget-view+json": {
       "version_major": 2,
       "version_minor": 0,
       "model_id": ""
      }
     },
     "metadata": {}
    },
    {
     "output_type": "display_data",
     "data": {
      "text/plain": "Validation: 0it [00:00, ?it/s]",
      "application/vnd.jupyter.widget-view+json": {
       "version_major": 2,
       "version_minor": 0,
       "model_id": ""
      }
     },
     "metadata": {}
    },
    {
     "output_type": "display_data",
     "data": {
      "text/plain": "Validation: 0it [00:00, ?it/s]",
      "application/vnd.jupyter.widget-view+json": {
       "version_major": 2,
       "version_minor": 0,
       "model_id": ""
      }
     },
     "metadata": {}
    },
    {
     "output_type": "display_data",
     "data": {
      "text/plain": "Validation: 0it [00:00, ?it/s]",
      "application/vnd.jupyter.widget-view+json": {
       "version_major": 2,
       "version_minor": 0,
       "model_id": ""
      }
     },
     "metadata": {}
    },
    {
     "output_type": "display_data",
     "data": {
      "text/plain": "Validation: 0it [00:00, ?it/s]",
      "application/vnd.jupyter.widget-view+json": {
       "version_major": 2,
       "version_minor": 0,
       "model_id": ""
      }
     },
     "metadata": {}
    },
    {
     "output_type": "display_data",
     "data": {
      "text/plain": "Validation: 0it [00:00, ?it/s]",
      "application/vnd.jupyter.widget-view+json": {
       "version_major": 2,
       "version_minor": 0,
       "model_id": ""
      }
     },
     "metadata": {}
    },
    {
     "output_type": "display_data",
     "data": {
      "text/plain": "Validation: 0it [00:00, ?it/s]",
      "application/vnd.jupyter.widget-view+json": {
       "version_major": 2,
       "version_minor": 0,
       "model_id": ""
      }
     },
     "metadata": {}
    },
    {
     "output_type": "display_data",
     "data": {
      "text/plain": "Validation: 0it [00:00, ?it/s]",
      "application/vnd.jupyter.widget-view+json": {
       "version_major": 2,
       "version_minor": 0,
       "model_id": ""
      }
     },
     "metadata": {}
    },
    {
     "output_type": "display_data",
     "data": {
      "text/plain": "Validation: 0it [00:00, ?it/s]",
      "application/vnd.jupyter.widget-view+json": {
       "version_major": 2,
       "version_minor": 0,
       "model_id": ""
      }
     },
     "metadata": {}
    },
    {
     "output_type": "display_data",
     "data": {
      "text/plain": "Validation: 0it [00:00, ?it/s]",
      "application/vnd.jupyter.widget-view+json": {
       "version_major": 2,
       "version_minor": 0,
       "model_id": ""
      }
     },
     "metadata": {}
    },
    {
     "output_type": "display_data",
     "data": {
      "text/plain": "Validation: 0it [00:00, ?it/s]",
      "application/vnd.jupyter.widget-view+json": {
       "version_major": 2,
       "version_minor": 0,
       "model_id": ""
      }
     },
     "metadata": {}
    },
    {
     "output_type": "display_data",
     "data": {
      "text/plain": "Validation: 0it [00:00, ?it/s]",
      "application/vnd.jupyter.widget-view+json": {
       "version_major": 2,
       "version_minor": 0,
       "model_id": ""
      }
     },
     "metadata": {}
    },
    {
     "output_type": "display_data",
     "data": {
      "text/plain": "Validation: 0it [00:00, ?it/s]",
      "application/vnd.jupyter.widget-view+json": {
       "version_major": 2,
       "version_minor": 0,
       "model_id": ""
      }
     },
     "metadata": {}
    },
    {
     "output_type": "display_data",
     "data": {
      "text/plain": "Validation: 0it [00:00, ?it/s]",
      "application/vnd.jupyter.widget-view+json": {
       "version_major": 2,
       "version_minor": 0,
       "model_id": ""
      }
     },
     "metadata": {}
    },
    {
     "output_type": "display_data",
     "data": {
      "text/plain": "Validation: 0it [00:00, ?it/s]",
      "application/vnd.jupyter.widget-view+json": {
       "version_major": 2,
       "version_minor": 0,
       "model_id": ""
      }
     },
     "metadata": {}
    },
    {
     "output_type": "display_data",
     "data": {
      "text/plain": "Validation: 0it [00:00, ?it/s]",
      "application/vnd.jupyter.widget-view+json": {
       "version_major": 2,
       "version_minor": 0,
       "model_id": ""
      }
     },
     "metadata": {}
    },
    {
     "output_type": "display_data",
     "data": {
      "text/plain": "Validation: 0it [00:00, ?it/s]",
      "application/vnd.jupyter.widget-view+json": {
       "version_major": 2,
       "version_minor": 0,
       "model_id": ""
      }
     },
     "metadata": {}
    },
    {
     "output_type": "display_data",
     "data": {
      "text/plain": "Validation: 0it [00:00, ?it/s]",
      "application/vnd.jupyter.widget-view+json": {
       "version_major": 2,
       "version_minor": 0,
       "model_id": ""
      }
     },
     "metadata": {}
    },
    {
     "output_type": "display_data",
     "data": {
      "text/plain": "Validation: 0it [00:00, ?it/s]",
      "application/vnd.jupyter.widget-view+json": {
       "version_major": 2,
       "version_minor": 0,
       "model_id": ""
      }
     },
     "metadata": {}
    },
    {
     "output_type": "display_data",
     "data": {
      "text/plain": "Validation: 0it [00:00, ?it/s]",
      "application/vnd.jupyter.widget-view+json": {
       "version_major": 2,
       "version_minor": 0,
       "model_id": ""
      }
     },
     "metadata": {}
    },
    {
     "output_type": "display_data",
     "data": {
      "text/plain": "Validation: 0it [00:00, ?it/s]",
      "application/vnd.jupyter.widget-view+json": {
       "version_major": 2,
       "version_minor": 0,
       "model_id": ""
      }
     },
     "metadata": {}
    },
    {
     "output_type": "display_data",
     "data": {
      "text/plain": "Validation: 0it [00:00, ?it/s]",
      "application/vnd.jupyter.widget-view+json": {
       "version_major": 2,
       "version_minor": 0,
       "model_id": ""
      }
     },
     "metadata": {}
    },
    {
     "output_type": "display_data",
     "data": {
      "text/plain": "Validation: 0it [00:00, ?it/s]",
      "application/vnd.jupyter.widget-view+json": {
       "version_major": 2,
       "version_minor": 0,
       "model_id": ""
      }
     },
     "metadata": {}
    },
    {
     "output_type": "display_data",
     "data": {
      "text/plain": "Validation: 0it [00:00, ?it/s]",
      "application/vnd.jupyter.widget-view+json": {
       "version_major": 2,
       "version_minor": 0,
       "model_id": ""
      }
     },
     "metadata": {}
    },
    {
     "output_type": "display_data",
     "data": {
      "text/plain": "Validation: 0it [00:00, ?it/s]",
      "application/vnd.jupyter.widget-view+json": {
       "version_major": 2,
       "version_minor": 0,
       "model_id": ""
      }
     },
     "metadata": {}
    },
    {
     "output_type": "display_data",
     "data": {
      "text/plain": "Validation: 0it [00:00, ?it/s]",
      "application/vnd.jupyter.widget-view+json": {
       "version_major": 2,
       "version_minor": 0,
       "model_id": ""
      }
     },
     "metadata": {}
    },
    {
     "output_type": "display_data",
     "data": {
      "text/plain": "Validation: 0it [00:00, ?it/s]",
      "application/vnd.jupyter.widget-view+json": {
       "version_major": 2,
       "version_minor": 0,
       "model_id": ""
      }
     },
     "metadata": {}
    },
    {
     "output_type": "display_data",
     "data": {
      "text/plain": "Validation: 0it [00:00, ?it/s]",
      "application/vnd.jupyter.widget-view+json": {
       "version_major": 2,
       "version_minor": 0,
       "model_id": ""
      }
     },
     "metadata": {}
    },
    {
     "output_type": "display_data",
     "data": {
      "text/plain": "Validation: 0it [00:00, ?it/s]",
      "application/vnd.jupyter.widget-view+json": {
       "version_major": 2,
       "version_minor": 0,
       "model_id": ""
      }
     },
     "metadata": {}
    },
    {
     "output_type": "display_data",
     "data": {
      "text/plain": "Validation: 0it [00:00, ?it/s]",
      "application/vnd.jupyter.widget-view+json": {
       "version_major": 2,
       "version_minor": 0,
       "model_id": ""
      }
     },
     "metadata": {}
    },
    {
     "output_type": "display_data",
     "data": {
      "text/plain": "Validation: 0it [00:00, ?it/s]",
      "application/vnd.jupyter.widget-view+json": {
       "version_major": 2,
       "version_minor": 0,
       "model_id": ""
      }
     },
     "metadata": {}
    },
    {
     "output_type": "display_data",
     "data": {
      "text/plain": "Validation: 0it [00:00, ?it/s]",
      "application/vnd.jupyter.widget-view+json": {
       "version_major": 2,
       "version_minor": 0,
       "model_id": ""
      }
     },
     "metadata": {}
    },
    {
     "output_type": "display_data",
     "data": {
      "text/plain": "Validation: 0it [00:00, ?it/s]",
      "application/vnd.jupyter.widget-view+json": {
       "version_major": 2,
       "version_minor": 0,
       "model_id": ""
      }
     },
     "metadata": {}
    },
    {
     "output_type": "display_data",
     "data": {
      "text/plain": "Validation: 0it [00:00, ?it/s]",
      "application/vnd.jupyter.widget-view+json": {
       "version_major": 2,
       "version_minor": 0,
       "model_id": ""
      }
     },
     "metadata": {}
    },
    {
     "output_type": "display_data",
     "data": {
      "text/plain": "Validation: 0it [00:00, ?it/s]",
      "application/vnd.jupyter.widget-view+json": {
       "version_major": 2,
       "version_minor": 0,
       "model_id": ""
      }
     },
     "metadata": {}
    },
    {
     "output_type": "display_data",
     "data": {
      "text/plain": "Validation: 0it [00:00, ?it/s]",
      "application/vnd.jupyter.widget-view+json": {
       "version_major": 2,
       "version_minor": 0,
       "model_id": ""
      }
     },
     "metadata": {}
    },
    {
     "output_type": "display_data",
     "data": {
      "text/plain": "Validation: 0it [00:00, ?it/s]",
      "application/vnd.jupyter.widget-view+json": {
       "version_major": 2,
       "version_minor": 0,
       "model_id": ""
      }
     },
     "metadata": {}
    },
    {
     "output_type": "display_data",
     "data": {
      "text/plain": "Validation: 0it [00:00, ?it/s]",
      "application/vnd.jupyter.widget-view+json": {
       "version_major": 2,
       "version_minor": 0,
       "model_id": ""
      }
     },
     "metadata": {}
    },
    {
     "output_type": "display_data",
     "data": {
      "text/plain": "Validation: 0it [00:00, ?it/s]",
      "application/vnd.jupyter.widget-view+json": {
       "version_major": 2,
       "version_minor": 0,
       "model_id": ""
      }
     },
     "metadata": {}
    },
    {
     "output_type": "display_data",
     "data": {
      "text/plain": "Validation: 0it [00:00, ?it/s]",
      "application/vnd.jupyter.widget-view+json": {
       "version_major": 2,
       "version_minor": 0,
       "model_id": ""
      }
     },
     "metadata": {}
    },
    {
     "output_type": "display_data",
     "data": {
      "text/plain": "Validation: 0it [00:00, ?it/s]",
      "application/vnd.jupyter.widget-view+json": {
       "version_major": 2,
       "version_minor": 0,
       "model_id": ""
      }
     },
     "metadata": {}
    },
    {
     "output_type": "display_data",
     "data": {
      "text/plain": "Validation: 0it [00:00, ?it/s]",
      "application/vnd.jupyter.widget-view+json": {
       "version_major": 2,
       "version_minor": 0,
       "model_id": ""
      }
     },
     "metadata": {}
    },
    {
     "output_type": "display_data",
     "data": {
      "text/plain": "Validation: 0it [00:00, ?it/s]",
      "application/vnd.jupyter.widget-view+json": {
       "version_major": 2,
       "version_minor": 0,
       "model_id": ""
      }
     },
     "metadata": {}
    },
    {
     "output_type": "display_data",
     "data": {
      "text/plain": "Validation: 0it [00:00, ?it/s]",
      "application/vnd.jupyter.widget-view+json": {
       "version_major": 2,
       "version_minor": 0,
       "model_id": ""
      }
     },
     "metadata": {}
    },
    {
     "output_type": "display_data",
     "data": {
      "text/plain": "Validation: 0it [00:00, ?it/s]",
      "application/vnd.jupyter.widget-view+json": {
       "version_major": 2,
       "version_minor": 0,
       "model_id": ""
      }
     },
     "metadata": {}
    },
    {
     "output_type": "display_data",
     "data": {
      "text/plain": "Validation: 0it [00:00, ?it/s]",
      "application/vnd.jupyter.widget-view+json": {
       "version_major": 2,
       "version_minor": 0,
       "model_id": ""
      }
     },
     "metadata": {}
    },
    {
     "output_type": "display_data",
     "data": {
      "text/plain": "Validation: 0it [00:00, ?it/s]",
      "application/vnd.jupyter.widget-view+json": {
       "version_major": 2,
       "version_minor": 0,
       "model_id": ""
      }
     },
     "metadata": {}
    },
    {
     "output_type": "display_data",
     "data": {
      "text/plain": "Validation: 0it [00:00, ?it/s]",
      "application/vnd.jupyter.widget-view+json": {
       "version_major": 2,
       "version_minor": 0,
       "model_id": ""
      }
     },
     "metadata": {}
    },
    {
     "output_type": "display_data",
     "data": {
      "text/plain": "Validation: 0it [00:00, ?it/s]",
      "application/vnd.jupyter.widget-view+json": {
       "version_major": 2,
       "version_minor": 0,
       "model_id": ""
      }
     },
     "metadata": {}
    },
    {
     "output_type": "display_data",
     "data": {
      "text/plain": "Validation: 0it [00:00, ?it/s]",
      "application/vnd.jupyter.widget-view+json": {
       "version_major": 2,
       "version_minor": 0,
       "model_id": ""
      }
     },
     "metadata": {}
    },
    {
     "output_type": "display_data",
     "data": {
      "text/plain": "Validation: 0it [00:00, ?it/s]",
      "application/vnd.jupyter.widget-view+json": {
       "version_major": 2,
       "version_minor": 0,
       "model_id": ""
      }
     },
     "metadata": {}
    },
    {
     "output_type": "display_data",
     "data": {
      "text/plain": "Validation: 0it [00:00, ?it/s]",
      "application/vnd.jupyter.widget-view+json": {
       "version_major": 2,
       "version_minor": 0,
       "model_id": ""
      }
     },
     "metadata": {}
    },
    {
     "output_type": "display_data",
     "data": {
      "text/plain": "Validation: 0it [00:00, ?it/s]",
      "application/vnd.jupyter.widget-view+json": {
       "version_major": 2,
       "version_minor": 0,
       "model_id": ""
      }
     },
     "metadata": {}
    },
    {
     "output_type": "display_data",
     "data": {
      "text/plain": "Validation: 0it [00:00, ?it/s]",
      "application/vnd.jupyter.widget-view+json": {
       "version_major": 2,
       "version_minor": 0,
       "model_id": ""
      }
     },
     "metadata": {}
    },
    {
     "output_type": "display_data",
     "data": {
      "text/plain": "Validation: 0it [00:00, ?it/s]",
      "application/vnd.jupyter.widget-view+json": {
       "version_major": 2,
       "version_minor": 0,
       "model_id": ""
      }
     },
     "metadata": {}
    },
    {
     "output_type": "display_data",
     "data": {
      "text/plain": "Validation: 0it [00:00, ?it/s]",
      "application/vnd.jupyter.widget-view+json": {
       "version_major": 2,
       "version_minor": 0,
       "model_id": ""
      }
     },
     "metadata": {}
    },
    {
     "output_type": "display_data",
     "data": {
      "text/plain": "Validation: 0it [00:00, ?it/s]",
      "application/vnd.jupyter.widget-view+json": {
       "version_major": 2,
       "version_minor": 0,
       "model_id": ""
      }
     },
     "metadata": {}
    },
    {
     "output_type": "display_data",
     "data": {
      "text/plain": "Validation: 0it [00:00, ?it/s]",
      "application/vnd.jupyter.widget-view+json": {
       "version_major": 2,
       "version_minor": 0,
       "model_id": ""
      }
     },
     "metadata": {}
    },
    {
     "output_type": "display_data",
     "data": {
      "text/plain": "Validation: 0it [00:00, ?it/s]",
      "application/vnd.jupyter.widget-view+json": {
       "version_major": 2,
       "version_minor": 0,
       "model_id": ""
      }
     },
     "metadata": {}
    },
    {
     "output_type": "display_data",
     "data": {
      "text/plain": "Validation: 0it [00:00, ?it/s]",
      "application/vnd.jupyter.widget-view+json": {
       "version_major": 2,
       "version_minor": 0,
       "model_id": ""
      }
     },
     "metadata": {}
    },
    {
     "output_type": "display_data",
     "data": {
      "text/plain": "Validation: 0it [00:00, ?it/s]",
      "application/vnd.jupyter.widget-view+json": {
       "version_major": 2,
       "version_minor": 0,
       "model_id": ""
      }
     },
     "metadata": {}
    },
    {
     "output_type": "display_data",
     "data": {
      "text/plain": "Validation: 0it [00:00, ?it/s]",
      "application/vnd.jupyter.widget-view+json": {
       "version_major": 2,
       "version_minor": 0,
       "model_id": ""
      }
     },
     "metadata": {}
    },
    {
     "output_type": "display_data",
     "data": {
      "text/plain": "Validation: 0it [00:00, ?it/s]",
      "application/vnd.jupyter.widget-view+json": {
       "version_major": 2,
       "version_minor": 0,
       "model_id": ""
      }
     },
     "metadata": {}
    },
    {
     "output_type": "display_data",
     "data": {
      "text/plain": "Validation: 0it [00:00, ?it/s]",
      "application/vnd.jupyter.widget-view+json": {
       "version_major": 2,
       "version_minor": 0,
       "model_id": ""
      }
     },
     "metadata": {}
    },
    {
     "output_type": "display_data",
     "data": {
      "text/plain": "Validation: 0it [00:00, ?it/s]",
      "application/vnd.jupyter.widget-view+json": {
       "version_major": 2,
       "version_minor": 0,
       "model_id": ""
      }
     },
     "metadata": {}
    },
    {
     "output_type": "display_data",
     "data": {
      "text/plain": "Validation: 0it [00:00, ?it/s]",
      "application/vnd.jupyter.widget-view+json": {
       "version_major": 2,
       "version_minor": 0,
       "model_id": ""
      }
     },
     "metadata": {}
    },
    {
     "output_type": "display_data",
     "data": {
      "text/plain": "Validation: 0it [00:00, ?it/s]",
      "application/vnd.jupyter.widget-view+json": {
       "version_major": 2,
       "version_minor": 0,
       "model_id": ""
      }
     },
     "metadata": {}
    },
    {
     "output_type": "display_data",
     "data": {
      "text/plain": "Validation: 0it [00:00, ?it/s]",
      "application/vnd.jupyter.widget-view+json": {
       "version_major": 2,
       "version_minor": 0,
       "model_id": ""
      }
     },
     "metadata": {}
    },
    {
     "output_type": "display_data",
     "data": {
      "text/plain": "Validation: 0it [00:00, ?it/s]",
      "application/vnd.jupyter.widget-view+json": {
       "version_major": 2,
       "version_minor": 0,
       "model_id": ""
      }
     },
     "metadata": {}
    },
    {
     "output_type": "display_data",
     "data": {
      "text/plain": "Validation: 0it [00:00, ?it/s]",
      "application/vnd.jupyter.widget-view+json": {
       "version_major": 2,
       "version_minor": 0,
       "model_id": ""
      }
     },
     "metadata": {}
    },
    {
     "output_type": "display_data",
     "data": {
      "text/plain": "Validation: 0it [00:00, ?it/s]",
      "application/vnd.jupyter.widget-view+json": {
       "version_major": 2,
       "version_minor": 0,
       "model_id": ""
      }
     },
     "metadata": {}
    },
    {
     "output_type": "display_data",
     "data": {
      "text/plain": "Validation: 0it [00:00, ?it/s]",
      "application/vnd.jupyter.widget-view+json": {
       "version_major": 2,
       "version_minor": 0,
       "model_id": ""
      }
     },
     "metadata": {}
    },
    {
     "output_type": "display_data",
     "data": {
      "text/plain": "Validation: 0it [00:00, ?it/s]",
      "application/vnd.jupyter.widget-view+json": {
       "version_major": 2,
       "version_minor": 0,
       "model_id": ""
      }
     },
     "metadata": {}
    },
    {
     "output_type": "display_data",
     "data": {
      "text/plain": "Validation: 0it [00:00, ?it/s]",
      "application/vnd.jupyter.widget-view+json": {
       "version_major": 2,
       "version_minor": 0,
       "model_id": ""
      }
     },
     "metadata": {}
    },
    {
     "output_type": "display_data",
     "data": {
      "text/plain": "Validation: 0it [00:00, ?it/s]",
      "application/vnd.jupyter.widget-view+json": {
       "version_major": 2,
       "version_minor": 0,
       "model_id": ""
      }
     },
     "metadata": {}
    },
    {
     "output_type": "display_data",
     "data": {
      "text/plain": "Validation: 0it [00:00, ?it/s]",
      "application/vnd.jupyter.widget-view+json": {
       "version_major": 2,
       "version_minor": 0,
       "model_id": ""
      }
     },
     "metadata": {}
    },
    {
     "output_type": "display_data",
     "data": {
      "text/plain": "Validation: 0it [00:00, ?it/s]",
      "application/vnd.jupyter.widget-view+json": {
       "version_major": 2,
       "version_minor": 0,
       "model_id": ""
      }
     },
     "metadata": {}
    },
    {
     "output_type": "display_data",
     "data": {
      "text/plain": "Validation: 0it [00:00, ?it/s]",
      "application/vnd.jupyter.widget-view+json": {
       "version_major": 2,
       "version_minor": 0,
       "model_id": ""
      }
     },
     "metadata": {}
    },
    {
     "output_type": "display_data",
     "data": {
      "text/plain": "Validation: 0it [00:00, ?it/s]",
      "application/vnd.jupyter.widget-view+json": {
       "version_major": 2,
       "version_minor": 0,
       "model_id": ""
      }
     },
     "metadata": {}
    },
    {
     "output_type": "display_data",
     "data": {
      "text/plain": "Validation: 0it [00:00, ?it/s]",
      "application/vnd.jupyter.widget-view+json": {
       "version_major": 2,
       "version_minor": 0,
       "model_id": ""
      }
     },
     "metadata": {}
    },
    {
     "output_type": "display_data",
     "data": {
      "text/plain": "Validation: 0it [00:00, ?it/s]",
      "application/vnd.jupyter.widget-view+json": {
       "version_major": 2,
       "version_minor": 0,
       "model_id": ""
      }
     },
     "metadata": {}
    },
    {
     "output_type": "display_data",
     "data": {
      "text/plain": "Validation: 0it [00:00, ?it/s]",
      "application/vnd.jupyter.widget-view+json": {
       "version_major": 2,
       "version_minor": 0,
       "model_id": ""
      }
     },
     "metadata": {}
    },
    {
     "output_type": "display_data",
     "data": {
      "text/plain": "Validation: 0it [00:00, ?it/s]",
      "application/vnd.jupyter.widget-view+json": {
       "version_major": 2,
       "version_minor": 0,
       "model_id": ""
      }
     },
     "metadata": {}
    },
    {
     "output_type": "display_data",
     "data": {
      "text/plain": "Validation: 0it [00:00, ?it/s]",
      "application/vnd.jupyter.widget-view+json": {
       "version_major": 2,
       "version_minor": 0,
       "model_id": ""
      }
     },
     "metadata": {}
    },
    {
     "output_type": "display_data",
     "data": {
      "text/plain": "Validation: 0it [00:00, ?it/s]",
      "application/vnd.jupyter.widget-view+json": {
       "version_major": 2,
       "version_minor": 0,
       "model_id": ""
      }
     },
     "metadata": {}
    },
    {
     "output_type": "display_data",
     "data": {
      "text/plain": "Validation: 0it [00:00, ?it/s]",
      "application/vnd.jupyter.widget-view+json": {
       "version_major": 2,
       "version_minor": 0,
       "model_id": ""
      }
     },
     "metadata": {}
    },
    {
     "output_type": "display_data",
     "data": {
      "text/plain": "Validation: 0it [00:00, ?it/s]",
      "application/vnd.jupyter.widget-view+json": {
       "version_major": 2,
       "version_minor": 0,
       "model_id": ""
      }
     },
     "metadata": {}
    },
    {
     "output_type": "display_data",
     "data": {
      "text/plain": "Validation: 0it [00:00, ?it/s]",
      "application/vnd.jupyter.widget-view+json": {
       "version_major": 2,
       "version_minor": 0,
       "model_id": ""
      }
     },
     "metadata": {}
    },
    {
     "output_type": "display_data",
     "data": {
      "text/plain": "Validation: 0it [00:00, ?it/s]",
      "application/vnd.jupyter.widget-view+json": {
       "version_major": 2,
       "version_minor": 0,
       "model_id": ""
      }
     },
     "metadata": {}
    },
    {
     "output_type": "display_data",
     "data": {
      "text/plain": "Validation: 0it [00:00, ?it/s]",
      "application/vnd.jupyter.widget-view+json": {
       "version_major": 2,
       "version_minor": 0,
       "model_id": ""
      }
     },
     "metadata": {}
    },
    {
     "output_type": "display_data",
     "data": {
      "text/plain": "Validation: 0it [00:00, ?it/s]",
      "application/vnd.jupyter.widget-view+json": {
       "version_major": 2,
       "version_minor": 0,
       "model_id": ""
      }
     },
     "metadata": {}
    },
    {
     "output_type": "display_data",
     "data": {
      "text/plain": "Validation: 0it [00:00, ?it/s]",
      "application/vnd.jupyter.widget-view+json": {
       "version_major": 2,
       "version_minor": 0,
       "model_id": ""
      }
     },
     "metadata": {}
    },
    {
     "output_type": "display_data",
     "data": {
      "text/plain": "Validation: 0it [00:00, ?it/s]",
      "application/vnd.jupyter.widget-view+json": {
       "version_major": 2,
       "version_minor": 0,
       "model_id": ""
      }
     },
     "metadata": {}
    },
    {
     "output_type": "display_data",
     "data": {
      "text/plain": "Validation: 0it [00:00, ?it/s]",
      "application/vnd.jupyter.widget-view+json": {
       "version_major": 2,
       "version_minor": 0,
       "model_id": ""
      }
     },
     "metadata": {}
    },
    {
     "output_type": "display_data",
     "data": {
      "text/plain": "Validation: 0it [00:00, ?it/s]",
      "application/vnd.jupyter.widget-view+json": {
       "version_major": 2,
       "version_minor": 0,
       "model_id": ""
      }
     },
     "metadata": {}
    },
    {
     "output_type": "display_data",
     "data": {
      "text/plain": "Validation: 0it [00:00, ?it/s]",
      "application/vnd.jupyter.widget-view+json": {
       "version_major": 2,
       "version_minor": 0,
       "model_id": ""
      }
     },
     "metadata": {}
    },
    {
     "output_type": "display_data",
     "data": {
      "text/plain": "Validation: 0it [00:00, ?it/s]",
      "application/vnd.jupyter.widget-view+json": {
       "version_major": 2,
       "version_minor": 0,
       "model_id": ""
      }
     },
     "metadata": {}
    },
    {
     "output_type": "display_data",
     "data": {
      "text/plain": "Validation: 0it [00:00, ?it/s]",
      "application/vnd.jupyter.widget-view+json": {
       "version_major": 2,
       "version_minor": 0,
       "model_id": ""
      }
     },
     "metadata": {}
    },
    {
     "output_type": "display_data",
     "data": {
      "text/plain": "Validation: 0it [00:00, ?it/s]",
      "application/vnd.jupyter.widget-view+json": {
       "version_major": 2,
       "version_minor": 0,
       "model_id": ""
      }
     },
     "metadata": {}
    },
    {
     "output_type": "display_data",
     "data": {
      "text/plain": "Validation: 0it [00:00, ?it/s]",
      "application/vnd.jupyter.widget-view+json": {
       "version_major": 2,
       "version_minor": 0,
       "model_id": ""
      }
     },
     "metadata": {}
    },
    {
     "output_type": "display_data",
     "data": {
      "text/plain": "Validation: 0it [00:00, ?it/s]",
      "application/vnd.jupyter.widget-view+json": {
       "version_major": 2,
       "version_minor": 0,
       "model_id": ""
      }
     },
     "metadata": {}
    },
    {
     "output_type": "display_data",
     "data": {
      "text/plain": "Validation: 0it [00:00, ?it/s]",
      "application/vnd.jupyter.widget-view+json": {
       "version_major": 2,
       "version_minor": 0,
       "model_id": ""
      }
     },
     "metadata": {}
    },
    {
     "output_type": "display_data",
     "data": {
      "text/plain": "Validation: 0it [00:00, ?it/s]",
      "application/vnd.jupyter.widget-view+json": {
       "version_major": 2,
       "version_minor": 0,
       "model_id": ""
      }
     },
     "metadata": {}
    },
    {
     "output_type": "display_data",
     "data": {
      "text/plain": "Validation: 0it [00:00, ?it/s]",
      "application/vnd.jupyter.widget-view+json": {
       "version_major": 2,
       "version_minor": 0,
       "model_id": ""
      }
     },
     "metadata": {}
    },
    {
     "output_type": "display_data",
     "data": {
      "text/plain": "Validation: 0it [00:00, ?it/s]",
      "application/vnd.jupyter.widget-view+json": {
       "version_major": 2,
       "version_minor": 0,
       "model_id": ""
      }
     },
     "metadata": {}
    },
    {
     "output_type": "display_data",
     "data": {
      "text/plain": "Validation: 0it [00:00, ?it/s]",
      "application/vnd.jupyter.widget-view+json": {
       "version_major": 2,
       "version_minor": 0,
       "model_id": ""
      }
     },
     "metadata": {}
    },
    {
     "output_type": "display_data",
     "data": {
      "text/plain": "Validation: 0it [00:00, ?it/s]",
      "application/vnd.jupyter.widget-view+json": {
       "version_major": 2,
       "version_minor": 0,
       "model_id": ""
      }
     },
     "metadata": {}
    },
    {
     "output_type": "display_data",
     "data": {
      "text/plain": "Validation: 0it [00:00, ?it/s]",
      "application/vnd.jupyter.widget-view+json": {
       "version_major": 2,
       "version_minor": 0,
       "model_id": ""
      }
     },
     "metadata": {}
    },
    {
     "output_type": "display_data",
     "data": {
      "text/plain": "Validation: 0it [00:00, ?it/s]",
      "application/vnd.jupyter.widget-view+json": {
       "version_major": 2,
       "version_minor": 0,
       "model_id": ""
      }
     },
     "metadata": {}
    },
    {
     "output_type": "display_data",
     "data": {
      "text/plain": "Validation: 0it [00:00, ?it/s]",
      "application/vnd.jupyter.widget-view+json": {
       "version_major": 2,
       "version_minor": 0,
       "model_id": ""
      }
     },
     "metadata": {}
    },
    {
     "output_type": "display_data",
     "data": {
      "text/plain": "Validation: 0it [00:00, ?it/s]",
      "application/vnd.jupyter.widget-view+json": {
       "version_major": 2,
       "version_minor": 0,
       "model_id": ""
      }
     },
     "metadata": {}
    },
    {
     "output_type": "display_data",
     "data": {
      "text/plain": "Validation: 0it [00:00, ?it/s]",
      "application/vnd.jupyter.widget-view+json": {
       "version_major": 2,
       "version_minor": 0,
       "model_id": ""
      }
     },
     "metadata": {}
    },
    {
     "output_type": "display_data",
     "data": {
      "text/plain": "Validation: 0it [00:00, ?it/s]",
      "application/vnd.jupyter.widget-view+json": {
       "version_major": 2,
       "version_minor": 0,
       "model_id": ""
      }
     },
     "metadata": {}
    },
    {
     "output_type": "display_data",
     "data": {
      "text/plain": "Validation: 0it [00:00, ?it/s]",
      "application/vnd.jupyter.widget-view+json": {
       "version_major": 2,
       "version_minor": 0,
       "model_id": ""
      }
     },
     "metadata": {}
    },
    {
     "output_type": "display_data",
     "data": {
      "text/plain": "Validation: 0it [00:00, ?it/s]",
      "application/vnd.jupyter.widget-view+json": {
       "version_major": 2,
       "version_minor": 0,
       "model_id": ""
      }
     },
     "metadata": {}
    },
    {
     "output_type": "display_data",
     "data": {
      "text/plain": "Validation: 0it [00:00, ?it/s]",
      "application/vnd.jupyter.widget-view+json": {
       "version_major": 2,
       "version_minor": 0,
       "model_id": ""
      }
     },
     "metadata": {}
    },
    {
     "output_type": "display_data",
     "data": {
      "text/plain": "Validation: 0it [00:00, ?it/s]",
      "application/vnd.jupyter.widget-view+json": {
       "version_major": 2,
       "version_minor": 0,
       "model_id": ""
      }
     },
     "metadata": {}
    },
    {
     "output_type": "display_data",
     "data": {
      "text/plain": "Validation: 0it [00:00, ?it/s]",
      "application/vnd.jupyter.widget-view+json": {
       "version_major": 2,
       "version_minor": 0,
       "model_id": ""
      }
     },
     "metadata": {}
    },
    {
     "output_type": "display_data",
     "data": {
      "text/plain": "Validation: 0it [00:00, ?it/s]",
      "application/vnd.jupyter.widget-view+json": {
       "version_major": 2,
       "version_minor": 0,
       "model_id": ""
      }
     },
     "metadata": {}
    },
    {
     "output_type": "display_data",
     "data": {
      "text/plain": "Validation: 0it [00:00, ?it/s]",
      "application/vnd.jupyter.widget-view+json": {
       "version_major": 2,
       "version_minor": 0,
       "model_id": ""
      }
     },
     "metadata": {}
    },
    {
     "output_type": "display_data",
     "data": {
      "text/plain": "Validation: 0it [00:00, ?it/s]",
      "application/vnd.jupyter.widget-view+json": {
       "version_major": 2,
       "version_minor": 0,
       "model_id": ""
      }
     },
     "metadata": {}
    }
   ]
  },
  {
   "cell_type": "code",
   "source": [
    "\n",
    "submit_set = Dataset(\n",
    "    filenames = submit_fns, labels = submit_lbs ,\n",
    "    hparams = hparams,\n",
    "    is_train=True\n",
    ")\n",
    "## Testing Dataloader\n",
    "submitloader = data.DataLoader(\n",
    "    submit_set,\n",
    "    batch_size=hparams.batch_size, \n",
    "    shuffle=False, \n",
    "    num_workers=hparams.n_workers\n",
    ")"
   ],
   "metadata": {
    "execution": {
     "iopub.status.busy": "2022-06-14T15:17:35.222365Z",
     "iopub.execute_input": "2022-06-14T15:17:35.223097Z",
     "iopub.status.idle": "2022-06-14T15:17:35.231441Z",
     "shell.execute_reply.started": "2022-06-14T15:17:35.223060Z",
     "shell.execute_reply": "2022-06-14T15:17:35.230741Z"
    },
    "trusted": true,
    "pycharm": {
     "name": "#%%\n"
    }
   },
   "execution_count": 14,
   "outputs": []
  },
  {
   "cell_type": "code",
   "source": [
    "\n",
    "import os\n",
    "\n",
    "from sklearn.metrics import classification_report\n",
    "from sklearn.metrics import accuracy_score\n",
    "\n",
    "\n",
    "\n",
    "import torch\n",
    "\n",
    "\n",
    "from tqdm import tqdm \n",
    "import pandas as pd\n",
    "\n",
    "\n",
    "\n",
    "if True:\n",
    "\n",
    "    model.eval()\n",
    "    gender_pred = []\n",
    "    gender_true = []\n",
    "\n",
    "    for batch in tqdm(test_set):\n",
    "        x,  y_g = batch\n",
    "        x = x.to(device)\n",
    "        y_hat_g = model(x)\n",
    "        if y_hat_g>0.5:\n",
    "            gender_pred.append(1)\n",
    "        else :\n",
    "            gender_pred.append(0)\n",
    "\n",
    "        gender_true.append(y_g)\n",
    "\n",
    "        print(accuracy_score(gender_true, gender_pred))\n",
    "        print(classification_report(gender_pred,gender_true,digits=4))\n",
    "\n"
   ],
   "metadata": {
    "execution": {
     "iopub.status.busy": "2022-06-14T15:17:38.447970Z",
     "iopub.execute_input": "2022-06-14T15:17:38.448239Z",
     "iopub.status.idle": "2022-06-14T15:18:06.651658Z",
     "shell.execute_reply.started": "2022-06-14T15:17:38.448208Z",
     "shell.execute_reply": "2022-06-14T15:18:06.649388Z"
    },
    "trusted": true,
    "pycharm": {
     "name": "#%%\n"
    }
   },
   "execution_count": 15,
   "outputs": [
    {
     "name": "stdout",
     "text": "Testing Model on NISP Dataset\n#Cores = 2\t#GPU = -1\n",
     "output_type": "stream"
    },
    {
     "name": "stderr",
     "text": "100%|██████████| 2868/2868 [00:28<00:00, 101.84it/s]",
     "output_type": "stream"
    },
    {
     "name": "stdout",
     "text": "0.9721059972105998\n              precision    recall  f1-score   support\n\n           0     0.9760    0.9708    0.9734      1508\n           1     0.9678    0.9735    0.9707      1360\n\n    accuracy                         0.9721      2868\n   macro avg     0.9719    0.9722    0.9720      2868\nweighted avg     0.9721    0.9721    0.9721      2868\n\n",
     "output_type": "stream"
    },
    {
     "name": "stderr",
     "text": "\n",
     "output_type": "stream"
    }
   ]
  },
  {
   "cell_type": "code",
   "source": [],
   "metadata": {
    "pycharm": {
     "name": "#%%\n"
    }
   },
   "execution_count": null,
   "outputs": []
  },
  {
   "cell_type": "code",
   "source": [
    "torch.save(model, 'cnnlstmatt.pt')"
   ],
   "metadata": {
    "execution": {
     "iopub.status.busy": "2022-06-14T15:18:23.847267Z",
     "iopub.execute_input": "2022-06-14T15:18:23.847880Z",
     "iopub.status.idle": "2022-06-14T15:18:23.893860Z",
     "shell.execute_reply.started": "2022-06-14T15:18:23.847842Z",
     "shell.execute_reply": "2022-06-14T15:18:23.893048Z"
    },
    "trusted": true,
    "pycharm": {
     "name": "#%%\n"
    }
   },
   "execution_count": 16,
   "outputs": []
  }
 ]
}